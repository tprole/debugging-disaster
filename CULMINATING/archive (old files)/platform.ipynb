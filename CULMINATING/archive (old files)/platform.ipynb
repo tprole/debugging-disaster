{
 "cells": [
  {
   "cell_type": "code",
   "execution_count": 1,
   "metadata": {},
   "outputs": [],
   "source": [
    "import turtle\n",
    "import random\n",
    "import glob\n",
    "import time"
   ]
  },
  {
   "cell_type": "code",
   "execution_count": 2,
   "metadata": {},
   "outputs": [
    {
     "name": "stdout",
     "output_type": "stream",
     "text": [
      "['./graphics/gif images/tara.gif', './graphics/gif images/sword.gif', './graphics/gif images/coin.gif', './graphics/gif images/tara-sword-engaged.gif', './graphics/gif images/tara-sword.gif', './graphics/gif images/cardinaleR.gif', './graphics/gif images/cardinale4+.gif', './graphics/gif images/cardinale.gif', './graphics/gif images/backdrop.gif']\n"
     ]
    }
   ],
   "source": [
    "win = turtle.Screen()\n",
    "win.setup(1195, 835)\n",
    "filenames = glob.glob('./graphics/gif images/*.gif')\n",
    "print(filenames)\n",
    "keys = ['tara', 'sword', 'coin', 'sword-engaged', 'sword-neutral', 'cardinale-R', 'cardinale-4+', 'cardinale', 'backdrop']\n",
    "imageFiles = dict(zip(keys, filenames))\n",
    "for file in imageFiles:\n",
    "    win.register_shape(imageFiles[file])\n",
    "win.bgpic(imageFiles['backdrop'])\n",
    "win.listen()"
   ]
  },
  {
   "cell_type": "code",
   "execution_count": 3,
   "metadata": {},
   "outputs": [],
   "source": [
    "platforms = {\n",
    "    'first_left_x': -400,\n",
    "    'first_right_x' : 0,\n",
    "    'first_top_y' : 0,\n",
    "    'first_bottom_y' : 0,\n",
    "    'second_left_x': 0,\n",
    "    'second_right_x': 0,\n",
    "    'second_top_y': 0,\n",
    "    'second_bottom_y': 0\n",
    "}"
   ]
  },
  {
   "cell_type": "code",
   "execution_count": 4,
   "metadata": {},
   "outputs": [],
   "source": [
    "# me = turtle.Turtle()\n",
    "# me.hideturtle()\n",
    "# me.shape(imageFiles['tara'])\n",
    "# me.penup()\n",
    "# me.setposition(-450, -200)\n",
    "# me.showturtle()"
   ]
  },
  {
   "cell_type": "code",
   "execution_count": 5,
   "metadata": {},
   "outputs": [],
   "source": [
    "cardinale1 = turtle.Turtle()\n",
    "cardinale1.hideturtle()\n",
    "cardinale1.shape(imageFiles['cardinale-R'])\n",
    "cardinale1.shapesize(0.1, 0.1, 1)\n",
    "cardinale1.penup()\n",
    "cardinale1.setposition(100, 100)\n",
    "cardinale1.showturtle()"
   ]
  },
  {
   "cell_type": "code",
   "execution_count": null,
   "metadata": {},
   "outputs": [],
   "source": []
  },
  {
   "cell_type": "code",
   "execution_count": 6,
   "metadata": {},
   "outputs": [],
   "source": [
    "class Me(turtle.Turtle):\n",
    "\n",
    "    def __init__(self):\n",
    "        super().__init__()\n",
    "        self.onPlatform = False\n",
    "        self.shape(imageFiles['tara'])\n",
    "        self.penup()\n",
    "        self.swordEquipped = False\n",
    "        self.setposition(-450, -200)\n",
    "\n",
    "    def moveRight(self):\n",
    "        self.goto(self.xcor() + 10, self.ycor())\n",
    "\n",
    "    def moveLeft(self):\n",
    "        self.goto(self.xcor() - 10, self.ycor())\n",
    "    \n",
    "    def jump(self):\n",
    "        for i in range(6):\n",
    "            self.goto(self.xcor(), self.ycor() + 5)\n",
    "            win.onkey(self.moveLeft(), \"Left\")\n",
    "            win.onkey(self.moveRight(), \"Right\")\n",
    "        for i in range(6):\n",
    "            self.goto(self.xcor(), self.ycor() - 5)\n",
    "            win.onkey(self.moveLeft(), \"Left\")\n",
    "            win.onkey(self.moveRight(), \"Right\")\n",
    "\n",
    "    def equipSword(self):\n",
    "        self.shape(imageFiles['sword-neutral'])\n",
    "        self.swordEquipped = True\n",
    "        self.swordEngaged = False\n",
    "    \n",
    "    def engageSword(self):\n",
    "        self.shape(imageFiles['sword-engaged'])\n",
    "        self.swordEngaged = True"
   ]
  },
  {
   "cell_type": "code",
   "execution_count": null,
   "metadata": {},
   "outputs": [],
   "source": [
    "class Cardinale(turtle.Turtle):\n",
    "\n",
    "    def __init__(self):\n",
    "        super().__init__()\n",
    "        self.penup()\n",
    "        self.shape(imageFiles['cardinale-R'])\n",
    "        self.setposition(-40, -30)\n",
    "    \n",
    "    def moveRight(self):\n",
    "        self.goto(self.xcor() + 10, self.ycor())\n",
    "\n",
    "    def moveLeft(self):\n",
    "        self.goto(self.xcor() - 10, self.ycor())\n",
    "\n",
    "    def detectSword(self):\n",
    "        if mainChar.swordEngaged = True:\n",
    "            self.shape(imageFiles['cardinale-4+'])\n",
    "            time."
   ]
  },
  {
   "cell_type": "code",
   "execution_count": 7,
   "metadata": {},
   "outputs": [],
   "source": [
    "mainChar = Me()\n",
    "while True:\n",
    "    win.onkey(mainChar.moveLeft, \"Left\")\n",
    "    win.onkey(mainChar.moveRight, \"Right\")\n",
    "    # win.onkey(mainChar.jump(), \"space\")"
   ]
  },
  {
   "cell_type": "code",
   "execution_count": null,
   "metadata": {},
   "outputs": [],
   "source": []
  },
  {
   "cell_type": "code",
   "execution_count": 1,
   "metadata": {},
   "outputs": [],
   "source": [
    "win.exitonclick()"
   ]
  }
 ],
 "metadata": {
  "interpreter": {
   "hash": "aee8b7b246df8f9039afb4144a1f6fd8d2ca17a180786b69acc140d282b71a49"
  },
  "kernelspec": {
   "display_name": "Python 3",
   "language": "python",
   "name": "python3"
  },
  "language_info": {
   "codemirror_mode": {
    "name": "ipython",
    "version": 3
   },
   "file_extension": ".py",
   "mimetype": "text/x-python",
   "name": "python",
   "nbconvert_exporter": "python",
   "pygments_lexer": "ipython3",
   "version": "3.8.8"
  }
 },
 "nbformat": 4,
 "nbformat_minor": 2
}
